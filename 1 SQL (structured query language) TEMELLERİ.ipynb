{
 "cells": [
  {
   "cell_type": "markdown",
   "metadata": {},
   "source": [
    "# SQL – Veriye erişim yöntemleri\n",
    "Veri, her zaman CSV formatında ve kullanıma hazır bir biçimde olmayabilir. Genellikle veriler, veri tabanlarında muhafaza edilir. Veri, salt bir analiz için gereken bilgiden çok daha fazlasını içerecek şekilde veri tabanı tablolarında yer almaktadır.\n",
    "\n",
    "Bu dersimizde, SQL \"Structured Query Language\" kullanarak veri tabanından işimize yarayacak veriyi çıkarmak ve işlemek için gerekli adımların üzerinden geçeceğiz.\n",
    "\n",
    "SQL, bir çok veri tabanı programında kullanılan ortak dildir. Yapacağınız analizlere destek olması için, SQL aracılığıyla çok büyük veri setlerini sorgulayabilir, verileri sıralayabilir ve işleyebilirsiniz. Bu dersin sonunda aşağıdaki konularda bilgi sahibi olacak ve veri biliminde gerekli olacak temel veri tabanı erişimi kavramlarına aşinalık kazanacaksınız:\n",
    "\n",
    "- Veriyi sorgulama - SQL kullanım becerisi\n",
    "- Temel veri gruplama ve kümeleme işlemleri (grouping and aggregation)\n",
    "- Bir çok veri tabanı tablosunu birlikte sorgulama (join)\n",
    "- Gelişmiş sorgulama için ortak tablo tanımı (CTE – common table expression)"
   ]
  },
  {
   "cell_type": "markdown",
   "metadata": {},
   "source": [
    "# 1. SQL hakkında Temel Bilgiler"
   ]
  },
  {
   "cell_type": "markdown",
   "metadata": {},
   "source": [
    "## 1.1. SQL CREATE cümlesi\n",
    "MySQL veri tabanı yönetim sistemini kurarak gerekli ayarları yapmış; veri tabanı ve tablo kavramlarına aşinalık kazanmıştık.\n",
    "\n",
    "Veri tabanında yeni bir tablo tanımlamak için, CREATE TABLE komutu kullanılır. Örnek tablo tanımı:\n",
    "\n",
    "CREATE TABLE tabloismi (\n",
    "sütun_ismi TYPE sütun_kısıtlama_tanımı,\n",
    "diğer_sütun_ismi TYPE,\n",
    "başka_bir_sütun_ismi TYPE\n",
    ");\n",
    "\n",
    "CREATE TABLE dan sonra tablo ismi verilmelidir. Tablo tanımlarken aşağıdaki gelenekler, adetler takip edilebilir:\n",
    "\n",
    "- tablo isimleri için küçük harfler kullanınız.\n",
    "- tablo isimlerinde boşluk karakteri kullanmayınız. Eğer tablo ismi birden fazla kelime içerecekse, bunları altçizgi \"_\" ile birleştirin. Örnek, ogrenci_bolum\n",
    "- Bu yüzden tablo isimlerinizde çift tırnak kullanmaktan kaçının.\n",
    "- Anlamlı ve tutarlı tablo isimleri kullanınız."
   ]
  },
  {
   "cell_type": "markdown",
   "metadata": {},
   "source": [
    "## 1.2. SELECT ... FROM komutu\n",
    "SELECT komutu tablodan veri sorgulamak için kullanılır, select ve from ifadelerinden oluşur.\n",
    "\n",
    "En temel SQL sorgusu SELECT * FROM tabloismi;\n",
    "\n",
    "Bu sorgu ismi verilen tablodaki tüm kayıtları tüm sütunlarla birlikte döndürür. \"Tablodaki tüm kayıtları tüm sütunların değerleri ile birlikte bana getir\" demektedir.\n",
    "\n",
    "Hangi sütunları istediğimiz konusunda daha seçici davranabiliriz: SELECT sütun1, sütun2, .. FROM tablo"
   ]
  },
  {
   "cell_type": "markdown",
   "metadata": {},
   "source": [
    "Sorgu sonuçlarını sunmak için bazı temel yöntemler mevcut. İlk olarak alias kullanımından bahsedebiliriz. Veri tabanı tablosundaki sütun ismini farklı bir şekilde sunmanıza/göstermenize yarar."
   ]
  },
  {
   "cell_type": "markdown",
   "metadata": {},
   "source": [
    "### Önemli bir diğer husus: select * ifadesi\n",
    "Çoğu zaman bir sorgu ile bir tablodan bazı bilgileri, alanları getiririz. Bazen de, mevcut tüm sütunları sorgulamak istersiniz. Sütun isimlerini tek tek yazmak yerine, SQL, tüm sütunları temsil edecek özel bir sembol sunar."
   ]
  },
  {
   "cell_type": "markdown",
   "metadata": {},
   "source": [
    "# 1.3. WHERE koşulu ile Filtreleme\n",
    "Şu ana kadar SELECT .. FROM komutunu kullanarak bir tablodaki tüm kayıtların tüm ya da seçili sütunlarını nasıl sorgulayacağımızı öğrendik.\n",
    "\n",
    "Peki, belirli bir koşulu sağlayan kayıtları istediğimizde ne yapmalıyız?\n",
    "\n",
    "Örneğin, \"müşteri numarasına göre\" belirli bir müşterinin siparişlerini sorgulamak istiyoruz. Ya da belirli bir tarihten önceki banka transferleriyle ilgileniyoruz. WHERE anahtar kelimesi burada devreye giriyor.\n",
    "\n",
    "WHERE ifadesi, hangi kayıtlarla ilgilendiğimiz hususunda bir takım koşullar tanımlamamıza izin verir:\n",
    "\n",
    "WHERE,\n",
    "\n",
    "karşılaştırma operatörleri aracılığıyla (=, >, >=, vb.)., bir ya da bir kaç koşulun karşılanması sağlanabilir,\n",
    "LIKE operatörü metin tipindeki veri için örüntü eşitliği amacıyla kullanılabilir,\n",
    "BETWEEN operatörü bir değerin, diğer değerlerin arasında olup olmadığını tespit etmek için kullanılır.\n",
    "ve tabi ki AND ve OR operatörleri WHERE bloğunun vazgeçilmezi, olmazsa olmazıdır.\n",
    "# 1.4. ORDER ile Sıralama\n",
    "ORDER BY verinin sıralı bir biçimde döndürülmesini sağlar. Bir ya da bir kaç sütuna göre artan ya da azalan yönde sıralama yapabilirsiniz.\n",
    "\n",
    "Aşağıdaki örnekte customerNumber, customerName, creditLimit alanlarını customers tablosundan sorguluyoruz: country USA olan kayıtları istiyoruz. ORDER BY ifadesiyle de, dönen sonucun müşteri numarasına göre azalan sırada olmasını istiyoruz."
   ]
  },
  {
   "cell_type": "markdown",
   "metadata": {},
   "source": [
    "SELECT\n",
    "customerNumber,\n",
    "customerName,\n",
    "creditLimit\n",
    "FROM\n",
    "customers\n",
    "WHERE country='USA'\n",
    "ORDER BY customerNumber DESC;"
   ]
  },
  {
   "cell_type": "markdown",
   "metadata": {},
   "source": [
    "Eğer yukarıdaki sorguyu, sayısal değerler içeren\n",
    "creditLimit alanı ile sınırlandırmak istersek bu durumda:"
   ]
  },
  {
   "cell_type": "markdown",
   "metadata": {},
   "source": [
    "SELECT\n",
    "customerNumber,\n",
    "customerName,\n",
    "creditLimit\n",
    "FROM\n",
    "customers\n",
    "WHERE creditLimit > 200000\n",
    "ORDER BY customerNumber DESC;"
   ]
  },
  {
   "cell_type": "markdown",
   "metadata": {},
   "source": [
    "# 1.5. LIMIT ile Sınırlı Sayıda Sonuç\n",
    "limit ifadesi dönülen kayıt sayısını sınırlamanıza olanak verir. Daha önce yazdığımız bir sorguya limit ifadesini ekleyelim. Yukarıdaki koşulları sağlayan kredi limiti en yüksek creditLimit 3 müşteriyi sorgulayalım:\n",
    "\n",
    "SELECT\n",
    "customerNumber,\n",
    "customerName,\n",
    "creditLimit\n",
    "FROM\n",
    "customers\n",
    "WHERE country='USA'\n",
    "ORDER BY creditLimit DESC\n",
    "limit 3;"
   ]
  },
  {
   "cell_type": "markdown",
   "metadata": {},
   "source": [
    "# 1.6. SQL Sorguları için Format Gelenekleri\n",
    "SQL, bilgisayar dillerinin içinde en okunur olanlarından biridir. İsteğe bağlı olmakla birlikte(zorunlu değil) tavsiye edilen bazı kuralları uygulayarak sorgularınızın okunurluğunu daha da artırabilirsiniz:\n",
    "\n",
    "- Select komutunda her sütunu bir içerlek yapınız.\n",
    " \n",
    "- FROM, WHERE ve ORDER BY blokları için Select ile aynı seviye içerlek kullanınız.\n",
    "\n",
    "- Benzer şekilde tek satırda sadece anlamlı tek ifade kullanınız.\n",
    "\n",
    "- SQL jargonundaki özel isimleri, fonksiyon isimlerini ve benzerlerini büyük harfle yazınız.\n",
    "\n",
    "- sütun/tablo isimlerini referans verirken sütun ve tablo isimlerini aynen muhafaza ederek kullanınız.\n",
    "\n",
    "- Büyük küçük harf kullanımında tutarlı olunuz, ancak SQL in büyük/küçük harfe duyarlı olmadığını ve tab, new line karakterlerini önemsemediğini unutmayınız."
   ]
  },
  {
   "cell_type": "code",
   "execution_count": null,
   "metadata": {},
   "outputs": [],
   "source": []
  }
 ],
 "metadata": {
  "kernelspec": {
   "display_name": "Python 3",
   "language": "python",
   "name": "python3"
  },
  "language_info": {
   "codemirror_mode": {
    "name": "ipython",
    "version": 3
   },
   "file_extension": ".py",
   "mimetype": "text/x-python",
   "name": "python",
   "nbconvert_exporter": "python",
   "pygments_lexer": "ipython3",
   "version": "3.7.4"
  }
 },
 "nbformat": 4,
 "nbformat_minor": 2
}
