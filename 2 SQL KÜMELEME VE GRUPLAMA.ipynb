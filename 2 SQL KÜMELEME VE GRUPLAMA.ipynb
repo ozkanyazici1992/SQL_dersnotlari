{
 "cells": [
  {
   "cell_type": "markdown",
   "metadata": {},
   "source": [
    "# 1. Kümeleme ve Gruplama (_Aggregating ve Grouping_)\n",
    "Şimdiye kadar öğrenmiş olduğunuz güçlü sorgular, gruplama grouping ve kümeleme aggregating ile daha da güçlendirilebilir. SQL dünyasında gruplama, istenen kayıtları bazı kriterlere göre bir araya getirmedir. Kümeleme de benzer şekilde veri tabanı sorgularında, bazı kümeleme işlemlerini uygulamadır: -bir sütundaki en büyük değer veya belli bir aralıktaki değerlerin ortalaması-.\n",
    "\n",
    "Örneğin; ülke, kredi limit bilgisini içeren bir müşteriler tablomuz olduğunu varsayalım.\n",
    "\n",
    "Aşağıdaki sorgu, ülkeye göre gruplanmış bir sonuç döndürür. Dönen her bir satır farklı ülkeler içindir. Her kayıtta farklı ülkeler için kredi limitinin ortalaması ve maximumu döndürülür.\n",
    "\n",
    "SELECT\n",
    "country,\n",
    "AVG(creditLimit),\n",
    "MAX(creditLimit)\n",
    "FROM customers\n",
    "GROUP BY country;\n",
    "\n",
    "## 1.1. GROUP BY ifadesi\n",
    "GROUP BY ifadesi WHERE den sonra ORDER BY dan önce yazılır.\n",
    "\n",
    "Kümeleme olmadan yapılan gruplama tekrarlı sonuçlar döndürür: Group by içerisinde geçen tüm sütunlar select ifadesinde yer almalıdır.\n",
    "\n",
    "Örnek:\n",
    "SELECT\n",
    "country\n",
    "FROM customers\n",
    "GROUP BY country;\n",
    "\n",
    "Bu sorgu customers tablosundaki birbirinden farklı tüm ülkeleri döndürür. Burada, sütun isimleri yerine sayılar kullanabileceğimizi hatırlatalım.\n",
    "\n",
    "Yukarıdaki sorguda tek sütun var, o halde GROUP BY country yerine GROUP BY 1 yazabiliriz. Eğer 3 sütun seçildiyse; GROUP BY 1,2,3 kullanılabilir.\n",
    "\n",
    "Birden fazla sütun için böyle gruplama yapılıyorsa, veri sadece tekrar etmeyen değerlere veya group by ifadesindeki değerler kombinasyonuna indirgenir. Her bir grup için tek satır sonuç dönülür.\n",
    "\n",
    "## 1.2. Kümeleme (Aggregation)\n",
    "SQL'de kümeleme fonksiyonlarını nasıl kullanırız?\n",
    "\n",
    "Kümeleme denilince, değerler bütününü alıyoruz ve sadece bir değer döndürüyoruz. Mesela, değerlerin içinde en büyük değer, değerlerin ortalaması... NumPy ve Pandas 'ı işlerken kümeleme fonksiyonlarını görmüştük, hatırladınız mı? Şimdi bunu SQL için bir örnekle gösterelim.\n",
    "\n",
    "Bu örnekte, her müşteri temsilcisi için müşteri sayısını, kredi limiti ortalaması, maximum ve minimumu sorgulayalım. Dikkat edilmesi gereken husus: Kümeleyici konusunda çalışıyorken, varsayılan sütun ismi, kümeleme fonksiyonunu kullandığınız sütunun ismi ile aynı şekilde döndürülür. Çoğu zaman fonksiyon isimleri açıklayıcı değildir. Bu sebeple fonksiyonlarla çalışırken sütun isimlerini yeniden adlandırarak daha anlamlı sorgu sonuçları elde edebilirsiniz.\n",
    "\n",
    "SELECT\n",
    "salesRepEmployeeNumber,\n",
    "count(*),\n",
    "avg(creditLimit) as kredi_limit_ortalama,\n",
    "max(creditLimit) as kredi_limit_max, min(creditLimit) as kredi_limit_min\n",
    "FROM customers\n",
    "GROUP BY salesRepEmployeeNumber\n",
    "\n",
    "-- group by ifadesinden aggregate fonksiyonları kullandığımız sütunları çıkarırız.\n",
    "-- sadece müşteri temsilcisi sütunu üzerinde gruplama yapıyoruz."
   ]
  },
  {
   "cell_type": "markdown",
   "metadata": {},
   "source": [
    "AVG fonksiyonu, group by sütun ile gruplanan kayıtların, fonksiyonun kullanıldığı ilgili sütun için tüm değerlerin ortalamasını döndürür.\n",
    "\n",
    "COUNT(*) group by sütun ile gruplanan kayıtların satır sayısını verir.\n",
    "\n",
    "Temel olarak gruplama bundan ibarettir. Kümeleme aggregate fonksiyonlarını kullanıyorsanız, kümeleme fonksiyonu kullanılmayan her sütunun GROUP BY ifadesinde yer alması gerektiğini unutmayınız."
   ]
  },
  {
   "cell_type": "markdown",
   "metadata": {},
   "source": [
    "O halde, veriyi işlemek için neden SQL kullanırız, ve iki aracı(SQL/Python) ne zaman kullanacağımıza nasıl karar veririz?\n",
    "\n",
    "- Dikkat edilmesi gereken bir çok husus mevcut. En önemlisi verinin büyüklüğü. Büyük hacimdeki veriyi işlemede SQL çok uygundur ve unutmayınız ki üretim ortamı veri tabanı sunucunuz, Python’u diz üstü bilgisayarınızda çalıştırırkenkinden çok çok daha güçlüdür(Bunun bir istisnası Python'u dağıtık spark sistem üzerinde çalıştırmak olabilir). Bu sebeple, büyük hacimdeki veriyle uğraşırken SQL’le çalışmak, yerelde Python’la çalışmaya tercih edilebilir.\n",
    "- Ayrıca, SQL sorguları; Python script’lerine ve CSV veya JSON dosyalarına nazaran ağda transfer olurken bant gemişliği açısından oldukça hafiftir.\n",
    "- SQL sorguları veri tabanına direk eriştiğinden en güncel veriye erişirler.\n",
    "- SQL çıktısını Python veya her hangi başka bir programlama diliyle kullanmak oldukça basittir.\n",
    "- Özetle, çalışmalarınızda, ne kadar SQL, ne kadar Python kullanacağınız tamamen size kalmış. Veri kaynaklarınız ve projenizin karmaşıklığına bağlı olarak kullanım tercihiniz değişecektir."
   ]
  }
 ],
 "metadata": {
  "kernelspec": {
   "display_name": "Python 3",
   "language": "python",
   "name": "python3"
  },
  "language_info": {
   "codemirror_mode": {
    "name": "ipython",
    "version": 3
   },
   "file_extension": ".py",
   "mimetype": "text/x-python",
   "name": "python",
   "nbconvert_exporter": "python",
   "pygments_lexer": "ipython3",
   "version": "3.7.4"
  }
 },
 "nbformat": 4,
 "nbformat_minor": 2
}
